{
 "cells": [
  {
   "cell_type": "markdown",
   "metadata": {},
   "source": [
    "# README"
   ]
  },
  {
   "cell_type": "markdown",
   "metadata": {},
   "source": [
    "This is a PyTorch implementation of Cycle-Gan inspired by Any Jang's notebook https://www.kaggle.com/amyjang/monet-cyclegan-tutorial.\n",
    "I will add Logging matrices from Weights and Biases once training is completed. I will also try to use resnet layers as Generator Layers.\n",
    "Any Input/Critism of what am I doing rong is most welcome."
   ]
  },
  {
   "cell_type": "code",
   "execution_count": null,
   "metadata": {},
   "outputs": [],
   "source": [
    "!ls /kaggle/input/gan-getting-started\n"
   ]
  },
  {
   "cell_type": "code",
   "execution_count": null,
   "metadata": {},
   "outputs": [],
   "source": [
    "# This Python 3 environment comes with many helpful analytics libraries installed\n",
    "# It is defined by the kaggle/python Docker image: https://github.com/kaggle/docker-python\n",
    "# For example, here's several helpful packages to load\n",
    "\n",
    "import numpy as np # linear algebra\n",
    "import pandas as pd # data processing, CSV file I/O (e.g. pd.read_csv)\n",
    "\n",
    "# Input data files are available in the read-only \"../input/\" directory\n",
    "# For example, running this (by clicking run or pressing Shift+Enter) will list all files under the input directory\n",
    "\n",
    "import os\n",
    "for dirname, _, filenames in os.walk('/kaggle/input'):\n",
    "    for filename in filenames:\n",
    "        print(os.path.join(dirname, filename))\n",
    "\n",
    "# You can write up to 5GB to the current directory (/kaggle/working/) that gets preserved as output when you create a version using \"Save & Run All\" \n",
    "# You can also write temporary files to /kaggle/temp/, but they won't be saved outside of the current session"
   ]
  },
  {
   "cell_type": "markdown",
   "metadata": {
    "id": "fdH6_tG6Nlqs"
   },
   "source": [
    "# Imports"
   ]
  },
  {
   "cell_type": "code",
   "execution_count": null,
   "metadata": {
    "id": "zApdXdY6NlMk"
   },
   "outputs": [],
   "source": [
    "import torch\n",
    "import torch.utils.model_zoo as model_zoo\n",
    "from torch import nn\n",
    "import wandb\n",
    "\n",
    "import os\n",
    "import torch\n",
    "import pandas as pd\n",
    "from skimage import io, transform\n",
    "import numpy as np\n",
    "from PIL import Image\n",
    "import matplotlib.pyplot as plt\n",
    "from torch.utils.data import Dataset, DataLoader\n",
    "from torchvision import transforms, utils\n",
    "\n",
    "import torch.optim as optim\n",
    "import torch\n",
    "from torch import nn\n",
    "from torch.nn import functional as F\n",
    "import pdb\n",
    "import glob\n",
    "import tqdm\n",
    "import wandb"
   ]
  },
  {
   "cell_type": "markdown",
   "metadata": {
    "id": "7gFVLL7bdbnc"
   },
   "source": [
    "# HyperParameters"
   ]
  },
  {
   "cell_type": "code",
   "execution_count": null,
   "metadata": {},
   "outputs": [],
   "source": [
    "! pip install wandb --upgrade"
   ]
  },
  {
   "cell_type": "code",
   "execution_count": null,
   "metadata": {},
   "outputs": [],
   "source": [
    "!wandb login"
   ]
  },
  {
   "cell_type": "code",
   "execution_count": null,
   "metadata": {
    "id": "eCO1UR9ZQxFa"
   },
   "outputs": [],
   "source": [
    "run = wandb.init(project=\"painter\", config=dict(\n",
    "  IMAGE_HEIGHT = 256,\n",
    "  IMAGE_WIDTH  = 256,\n",
    "  batch_size = 4,          # input batch size for training (default: 64)\n",
    "  train_batch_size = 4,\n",
    "  test_batch_size = 10,    # input batch size for testing (default: 1000)\n",
    "  epochs = 25,            # number of epochs to train (default: 10)\n",
    "  lr=2e-4,\n",
    "  betas=(0.5, 0.999),\n",
    "  momentum = 0.1,      # SGD momentum (default: 0.5) \n",
    "  no_cuda = False,         # disables CUDA training\n",
    "  seed = 42,        # random seed (default: 42)\n",
    "  log_interval = 50     # how many batches to wait before logging training status\n",
    "))"
   ]
  },
  {
   "cell_type": "code",
   "execution_count": null,
   "metadata": {
    "id": "7lLNuPV_pC9G"
   },
   "outputs": [],
   "source": [
    "run.config.IMAGE_HEIGHT"
   ]
  },
  {
   "cell_type": "markdown",
   "metadata": {
    "id": "1d_FM6nZuFi5"
   },
   "source": [
    "# Create Dataset\n"
   ]
  },
  {
   "cell_type": "code",
   "execution_count": null,
   "metadata": {
    "id": "5EnzO8JpQ8CB"
   },
   "outputs": [],
   "source": [
    "class ITIDataset(Dataset):\n",
    "    \"\"\"Image to Image dataset.\"\"\"\n",
    "\n",
    "    def __init__(self, transform=None):\n",
    "      self.monet_files = glob.glob(\"/kaggle/input/gan-getting-started/monet_jpg/*.jpg\")\n",
    "      self.photo_files = glob.glob(\"/kaggle/input/gan-getting-started/photo_jpg/*.jpg\")\n",
    "      self.transform = transform\n",
    "      \n",
    "    def __len__(self):\n",
    "        return max(len(self.monet_files), len(self.photo_files))\n",
    "\n",
    "    def __getitem__(self, idx):\n",
    "        if torch.is_tensor(idx):\n",
    "            idx = idx.tolist()\n",
    "                \n",
    "        photo_img = self.photo_files[idx]\n",
    "        monet_img = self.monet_files[int(np.random.uniform(0, len(self.monet_files)))]\n",
    "\n",
    "        photo_img = Image.open(photo_img)\n",
    "        monet_img = Image.open(monet_img)\n",
    "        \n",
    "        if self.transform:\n",
    "          photo_img = self.transform(photo_img) \n",
    "          monet_img = self.transform(monet_img)\n",
    "        \n",
    "        return photo_img, monet_img"
   ]
  },
  {
   "cell_type": "code",
   "execution_count": null,
   "metadata": {
    "id": "4dmBRDn_mbvU"
   },
   "outputs": [],
   "source": [
    "data_transform = transforms.Compose([\n",
    "        transforms.Resize((run.config.IMAGE_HEIGHT, run.config.IMAGE_WIDTH)),\n",
    "        transforms.RandomHorizontalFlip(),\n",
    "        transforms.ToTensor(),        \n",
    "    ])"
   ]
  },
  {
   "cell_type": "code",
   "execution_count": null,
   "metadata": {
    "id": "o8DViWtemz3M"
   },
   "outputs": [],
   "source": [
    "iti_train_dataset    = ITIDataset(transform=data_transform)\n",
    "train_dataset_loader = DataLoader(iti_train_dataset, batch_size=run.config.train_batch_size, shuffle=True, num_workers=4)"
   ]
  },
  {
   "cell_type": "code",
   "execution_count": null,
   "metadata": {
    "id": "5KUVHN7sptlG"
   },
   "outputs": [],
   "source": [
    "iti_test_dataset      = [iti_train_dataset[int(np.random.uniform(0, len(iti_train_dataset)))] for _ in range(len(iti_train_dataset)//run.config.test_batch_size)]\n",
    "test_dataset_loader = DataLoader(iti_test_dataset, batch_size=run.config.test_batch_size, shuffle=True, num_workers=4)"
   ]
  },
  {
   "cell_type": "code",
   "execution_count": null,
   "metadata": {
    "id": "L6N45Ef8rzab"
   },
   "outputs": [],
   "source": [
    "for data in train_dataset_loader:\n",
    "  break\n",
    "data[0][1].permute\n",
    "plt.imshow(data[1][3].permute(1,2,0))"
   ]
  },
  {
   "cell_type": "code",
   "execution_count": null,
   "metadata": {
    "id": "7YnYdkmtcarJ"
   },
   "outputs": [],
   "source": [
    "if torch.cuda.is_available():\n",
    "    device = torch.device(\"cuda:0\")  # you can continue going on here, like cuda:1 cuda:2....etc. \n",
    "    print(\"Running on the GPU\")\n",
    "else:\n",
    "    device = torch.device(\"cpu\")\n",
    "    print(\"Running on the CPU\")"
   ]
  },
  {
   "cell_type": "markdown",
   "metadata": {
    "id": "SWJ12WtIZ7TN"
   },
   "source": [
    "# Model"
   ]
  },
  {
   "cell_type": "code",
   "execution_count": null,
   "metadata": {
    "id": "D-YP4vnNQVrK"
   },
   "outputs": [],
   "source": [
    "class Downsample(nn.Module):\n",
    "  def __init__(self, in_channels, out_channels, kernel_size, padding, apply_normalization=True):\n",
    "    super().__init__()\n",
    "    self.apply_normalization = apply_normalization\n",
    "    self.conv_1      = nn.Conv2d(in_channels=in_channels, out_channels=out_channels, padding=padding,\n",
    "                                 kernel_size=kernel_size, stride=2, bias=False)\n",
    "    \n",
    "    nn.init.kaiming_normal_(self.conv_1.weight, mode=\"fan_in\")\n",
    "    if self.apply_normalization:\n",
    "      self.normalizer  = nn.InstanceNorm2d(out_channels, affine=True)\n",
    "    self.attn        = nn.ReLU()\n",
    "    \n",
    "  def forward(self, x):\n",
    "    x = self.conv_1(x)\n",
    "    if self.apply_normalization:\n",
    "      x = self.normalizer(x)\n",
    "    x = self.attn(x)\n",
    "    return x"
   ]
  },
  {
   "cell_type": "code",
   "execution_count": null,
   "metadata": {
    "id": "X5VHAa89aQSX"
   },
   "outputs": [],
   "source": [
    "class Upsample(nn.Module):\n",
    "  def __init__(self, in_channels, out_channels, kernel_size, padding, apply_dropout=False):\n",
    "    super().__init__()\n",
    "    self.apply_dropout = apply_dropout\n",
    "    self.conv_1      = nn.ConvTranspose2d(in_channels=in_channels, out_channels=out_channels, padding=padding,\n",
    "                                 kernel_size=kernel_size, stride=2, bias=False)\n",
    "    \n",
    "    nn.init.kaiming_normal_(self.conv_1.weight, mode=\"fan_in\")\n",
    "    self.normalizer  = nn.InstanceNorm2d(out_channels, affine=True)\n",
    "    if self.apply_dropout:\n",
    "      self.dropout = nn.Dropout2d(0.2)\n",
    "    self.attn        = nn.ReLU()\n",
    "    \n",
    "  def forward(self, x):\n",
    "    x = self.conv_1(x)\n",
    "    x = self.normalizer(x)\n",
    "    if self.apply_dropout:\n",
    "      x = self.dropout(x)\n",
    "    x = self.attn(x)\n",
    "    return x"
   ]
  },
  {
   "cell_type": "code",
   "execution_count": null,
   "metadata": {
    "id": "HHdKZhtQa0e6"
   },
   "outputs": [],
   "source": [
    "class Generator(nn.Module):  \n",
    "  def __init__(self, device):\n",
    "    super().__init__()\n",
    "\n",
    "    self.down_stack = nn.Sequential(\n",
    "        Downsample(3, 64, 4, padding=(1,1), apply_normalization=False), # (bs, 64, 128, 128)\n",
    "        Downsample(64, 128, 4, padding=(1,1)), # (bs, 128, 64, 64)\n",
    "        Downsample(128, 256, 4, padding=(1,1)), # (bs, 256, 32, 32)\n",
    "        Downsample(256, 512, 4, padding=(1,1)), # (bs, 512, 16, 16)\n",
    "        Downsample(512, 512, 4, padding=(1,1)), # (bs, 512, 8, 8)\n",
    "        Downsample(512, 512, 4, padding=(1,1)), # (bs, 512, 4, 4)\n",
    "        Downsample(512, 512, 4, padding=(1,1)), # (bs, 512, 2, 2)\n",
    "    )\n",
    "\n",
    "    self.up_stack = nn.Sequential(\n",
    "        Upsample(512, 512, 4, apply_dropout=True, padding=(1,1)), # (bs, 2, 2, 1024)\n",
    "        Upsample(1024, 512, 4, apply_dropout=True, padding=(1,1)), # (bs, 4, 4, 1024)\n",
    "        Upsample(1024, 512, 4, apply_dropout=True, padding=(1,1)), # (bs, 8, 8, 1024)\n",
    "        Upsample(1024, 256, 4, padding=(1,1)), # (bs, 16, 16, 1024)\n",
    "        Upsample(512, 128, 4, padding=(1,1)), # (bs, 32, 32, 512)\n",
    "        Upsample(256, 64, 4, padding=(1,1)), # (bs, 64, 64, 256)\n",
    "        # Upsample(128, 64, 4, padding=(1,1)), # (bs, 128, 128, 128)\n",
    "    )\n",
    "    self.conv_out    = nn.ConvTranspose2d(128, 3, padding=(1,1),\n",
    "                                 kernel_size=4, stride=2, bias=False)\n",
    "\n",
    "\n",
    "  def forward(self, x):\n",
    "    skips = []\n",
    "    # pdb.set_trace()\n",
    "    for down in self.down_stack:\n",
    "      x = down(x)\n",
    "      skips.append(x)\n",
    "    # for skip in skips:\n",
    "    #   print(skip.shape)\n",
    "    # print(len(skips))\n",
    "    skips = reversed(skips[:-1])\n",
    "    # pdb.set_trace()\n",
    "    # print(len([skips]))\n",
    "    for up, skip in zip(self.up_stack, skips):\n",
    "      x = up(x)\n",
    "      x = torch.cat((x, skip), 1)\n",
    "      # print(x.shape)\n",
    "\n",
    "    x = self.conv_out(x)\n",
    "\n",
    "    return x\n"
   ]
  },
  {
   "cell_type": "code",
   "execution_count": null,
   "metadata": {
    "id": "cyUcvQ3ba0z4"
   },
   "outputs": [],
   "source": [
    "gen = Generator(device).to(device)"
   ]
  },
  {
   "cell_type": "code",
   "execution_count": null,
   "metadata": {
    "id": "LBDVysu_a1CV"
   },
   "outputs": [],
   "source": [
    "gen(torch.rand(2,3,256,256).to(device)).shape"
   ]
  },
  {
   "cell_type": "code",
   "execution_count": null,
   "metadata": {
    "id": "qz37FqVlSw13"
   },
   "outputs": [],
   "source": [
    "print(len([1,2,3,4,5,6,7]))"
   ]
  },
  {
   "cell_type": "code",
   "execution_count": null,
   "metadata": {
    "id": "swV5Qt7Ta1HE"
   },
   "outputs": [],
   "source": [
    "class Discriminator(nn.Module):\n",
    "    def __init__(self,device):\n",
    "      super().__init__()\n",
    "\n",
    "      self.down = nn.Sequential(\n",
    "                   Downsample(3, 64, 4, (1, 1), apply_normalization=False),\n",
    "                   Downsample(64, 128,  4, (1, 1)),\n",
    "                   Downsample(128, 256,  4, (1, 1)),\n",
    "      )\n",
    "      self.zero_pad = nn.ZeroPad2d(2)\n",
    "\n",
    "      self.conv1    = nn.Conv2d(256, 512, kernel_size=4, stride=1, bias=False)\n",
    "      self.normalizer  = nn.InstanceNorm2d(512, affine=True)\n",
    "      self.conv2     = nn.Conv2d(512, 1, 4, stride=1)\n",
    "      self.relu      = nn.LeakyReLU()\n",
    "    def forward(self, x):\n",
    "      # pdb.set_trace()\n",
    "\n",
    "      for down in self.down:\n",
    "        x = down(x)\n",
    "      x = self.zero_pad(x)\n",
    "      x = self.conv1(x)\n",
    "      x = self.normalizer(x)\n",
    "      x = self.relu(x)\n",
    "      x = self.conv2(x)\n",
    "      return x"
   ]
  },
  {
   "cell_type": "code",
   "execution_count": null,
   "metadata": {
    "id": "pi9Kh3TN6HCP"
   },
   "outputs": [],
   "source": [
    "class DiscriminatorLoss(nn.Module):\n",
    "  def __init__(self):\n",
    "    super().__init__()\n",
    "    self.real_loss = nn.BCEWithLogitsLoss(reduction=\"mean\")\n",
    "    self.generated_loss = nn.BCEWithLogitsLoss(reduction=\"mean\")\n",
    "\n",
    "  def forward(self, real, generated):\n",
    "    return 0.5*(self.real_loss(real, torch.ones_like(real)) \\\n",
    "                + self.generated_loss(generated, torch.zeros_like(generated)))\n",
    "  # total_disc_loss = real_loss + generated_loss\n",
    "\n",
    "  # return total_disc_loss * 0.5"
   ]
  },
  {
   "cell_type": "code",
   "execution_count": null,
   "metadata": {
    "id": "FejG6bKM6HK1"
   },
   "outputs": [],
   "source": [
    "class GeneratedLoss(nn.Module):\n",
    "  def __init__(self):\n",
    "    super().__init__()\n",
    "    self.generated_loss = nn.BCEWithLogitsLoss(reduction=\"mean\")\n",
    "  def forward(self, generated):\n",
    "    return self.generated_loss(generated, torch.ones_like(generated))"
   ]
  },
  {
   "cell_type": "code",
   "execution_count": null,
   "metadata": {
    "id": "2mfZj3546HR0"
   },
   "outputs": [],
   "source": [
    "class CycleLoss(nn.Module):\n",
    "  def __init__(self):\n",
    "    super().__init__()\n",
    "  def forward(self, real_image, cycled_image, lam):\n",
    "    loss1 = torch.mean(torch.abs_(real_image - cycled_image))\n",
    "    return lam * loss1"
   ]
  },
  {
   "cell_type": "code",
   "execution_count": null,
   "metadata": {
    "id": "6IuELXztHoEn"
   },
   "outputs": [],
   "source": [
    "class IdentityLoss(nn.Module):\n",
    "  def __init__(self):\n",
    "    super().__init__()\n",
    "  def forward(self, real_image, same_image, lam):\n",
    "    loss1 = torch.mean(torch.abs_(real_image - same_image))\n",
    "    return lam * 0.5 * loss1"
   ]
  },
  {
   "cell_type": "code",
   "execution_count": null,
   "metadata": {
    "id": "5v5eo3B1xrxF"
   },
   "outputs": [],
   "source": [
    "class GAN(nn.Module):\n",
    "  def __init__(self):\n",
    "    super().__init__()\n",
    "\n",
    "    self.monet_generator = Generator(device).to(device)\n",
    "    self.monet_discriminator = Discriminator(device).to(device)\n",
    "    self.photo_generator = Generator(device).to(device)\n",
    "    self.photo_discriminator = Discriminator(device).to(device)\n",
    "  def forward(self,real_monet, real_photo):\n",
    "    # photo -> monet -> photo\n",
    "    fake_monet   = self.monet_generator(real_photo)\n",
    "    cycled_photo = self.photo_generator(fake_monet)\n",
    "\n",
    "    #monet -> photo -> monet\n",
    "    fake_photo   = self.photo_generator(real_monet)\n",
    "    cycled_monet = self.monet_generator(fake_photo)\n",
    "\n",
    "    #generate itself\n",
    "    same_monet = self.monet_generator(real_monet)\n",
    "    same_photo = self.photo_generator(real_photo)\n",
    "\n",
    "    #discriminator in real images\n",
    "    disc_real_monet = self.monet_discriminator(real_monet)\n",
    "    disc_real_photo = self.photo_discriminator(real_photo)  \n",
    "\n",
    "    #discriminator for fake output\n",
    "    disc_fake_monet = self.monet_discriminator(fake_monet)\n",
    "    disc_fake_photo = self.photo_discriminator(fake_photo)\n",
    "\n",
    "    return cycled_photo, cycled_monet, same_monet, same_photo, disc_real_monet, disc_real_photo, disc_fake_monet, disc_fake_photo, fake_monet, fake_photo"
   ]
  },
  {
   "cell_type": "code",
   "execution_count": null,
   "metadata": {
    "id": "3zlNk-F3kAOP"
   },
   "outputs": [],
   "source": [
    "def train_step(model, \n",
    "              monet_generator_optimizer,\n",
    "              photo_generator_optimizer,\n",
    "              monet_discriminator_optimizer,\n",
    "              photo_discriminator_optimizer,\n",
    "              discriminator_loss,\n",
    "              generator_loss,\n",
    "              cycle_loss,\n",
    "              identity_loss,\n",
    "              train_dataloader, \n",
    "              device,\n",
    "              epoch,\n",
    "              lambda_cycle=10):\n",
    "  \n",
    "  model.train()\n",
    "\n",
    "  for idx, (real_photo, real_monet) in enumerate(tqdm.notebook.tqdm_notebook(train_dataloader, desc='Training epoch ' + str(epoch + 1) + '')):\n",
    "    real_monet, real_photo = real_monet.to(device), real_photo.to(device)\n",
    "    \n",
    "    cycled_photo, cycled_monet, same_monet, same_photo, disc_real_monet, disc_real_photo, disc_fake_monet, disc_fake_photo, _, _ = model(real_monet, real_photo)\n",
    "    \n",
    "    #evaluate generateor loss\n",
    "    monet_gen_loss = generator_loss(disc_fake_monet)\n",
    "    photo_gen_loss = generator_loss(disc_fake_photo)\n",
    "\n",
    "    # evaluates total cycle consistency loss\n",
    "    total_cycle_loss = cycle_loss(real_monet, cycled_monet, lambda_cycle) + cycle_loss(real_photo, cycled_photo, lambda_cycle)\n",
    "\n",
    "    # evaluates total generator loss\n",
    "    total_monet_gen_loss = monet_gen_loss + total_cycle_loss + identity_loss(real_monet, same_monet, lambda_cycle)\n",
    "    total_photo_gen_loss = photo_gen_loss + total_cycle_loss + identity_loss(real_photo, same_photo, lambda_cycle)\n",
    "\n",
    "    # evaluates discriminator loss\n",
    "    monet_disc_loss = discriminator_loss(disc_real_monet, disc_fake_monet)\n",
    "    photo_disc_loss = discriminator_loss(disc_real_photo, disc_fake_photo)\n",
    "\n",
    "    monet_generator_optimizer.zero_grad()\n",
    "    photo_generator_optimizer.zero_grad()\n",
    "    monet_discriminator_optimizer.zero_grad()\n",
    "    photo_discriminator_optimizer.zero_grad()\n",
    "\n",
    "    total_monet_gen_loss.backward(retain_graph=True)\n",
    "    total_photo_gen_loss.backward(retain_graph=True)\n",
    "    monet_disc_loss.backward(retain_graph=True)\n",
    "    photo_disc_loss.backward(retain_graph=True)\n",
    "\n",
    "    monet_generator_optimizer.step()\n",
    "    photo_generator_optimizer.step()\n",
    "    monet_discriminator_optimizer.step()\n",
    "    photo_discriminator_optimizer.step()\n",
    "\n",
    "    if idx%run.config.log_interval == 0:\n",
    "      print({\n",
    "          \"monet_gen_loss\": total_monet_gen_loss,\n",
    "          \"photo_gen_loss\": total_photo_gen_loss,\n",
    "          \"monet_disc_loss\": monet_disc_loss,\n",
    "          \"photo_disc_loss\": photo_disc_loss\n",
    "      })"
   ]
  },
  {
   "cell_type": "code",
   "execution_count": null,
   "metadata": {
    "id": "4b9WWa2XV385"
   },
   "outputs": [],
   "source": [
    "def test(model,\n",
    "        discriminator_loss,\n",
    "        generator_loss,\n",
    "        cycle_loss,\n",
    "        identity_loss,\n",
    "        test_dataloader, \n",
    "        device,\n",
    "        epoch,\n",
    "        lambda_cycle=10):\n",
    "    # Switch model to evaluation mode. This is necessary for layers like dropout, batchnorm etc which behave differently in training and evaluation mode\n",
    "    model.eval()\n",
    "\n",
    "    monet_gen_loss = 0\n",
    "    photo_gen_loss = 0\n",
    "    total_cycle_loss = 0\n",
    "    total_monet_gen_loss = 0\n",
    "    total_photo_gen_loss = 0\n",
    "    monet_disc_loss = 0\n",
    "    photo_disc_loss = 0\n",
    "    \n",
    "    real_photo_log = []\n",
    "    converted_photo_log = []\n",
    "    real_monet_log = []\n",
    "    converted_monet_log = []\n",
    "    with torch.no_grad():\n",
    "        # for real_monet, real_photo in test_dataloader:\n",
    "        for idx, (real_photo, real_monet) in enumerate(tqdm.notebook.tqdm_notebook(test_dataloader, desc='Test epoch ' + str(epoch + 1) + '')):\n",
    "\n",
    "            real_monet, real_photo = real_monet.to(device), real_photo.to(device)\n",
    "            \n",
    "            cycled_photo, cycled_monet, same_monet, same_photo, disc_real_monet, disc_real_photo, disc_fake_monet, disc_fake_photo, fake_monet, fake_photo= model(real_monet, real_photo)\n",
    "    \n",
    "            #evaluate generateor loss\n",
    "            monet_gen_loss += generator_loss(disc_fake_monet)\n",
    "            photo_gen_loss += generator_loss(disc_fake_photo)\n",
    "\n",
    "            # evaluates total cycle consistency loss\n",
    "            total_cycle_loss += cycle_loss(real_monet, cycled_monet, lambda_cycle) + cycle_loss(real_photo, cycled_photo, lambda_cycle)\n",
    "\n",
    "            # evaluates total generator loss\n",
    "            total_monet_gen_loss += monet_gen_loss + total_cycle_loss + identity_loss(real_monet, same_monet, lambda_cycle)\n",
    "            total_photo_gen_loss += photo_gen_loss + total_cycle_loss + identity_loss(real_photo, same_photo, lambda_cycle)\n",
    "\n",
    "            # evaluates discriminator loss\n",
    "            monet_disc_loss += discriminator_loss(disc_real_monet, disc_fake_monet)\n",
    "            photo_disc_loss += discriminator_loss(disc_real_photo, disc_fake_photo)\n",
    "            \n",
    "            # WandB – Log images in your test dataset automatically, along with predicted and true labels by passing pytorch tensors with image data into wandb.Image\n",
    "            # real_photo_log.append(wandb.Image(\n",
    "            #     real_monet[0], caption=\"Real Photo\"))\n",
    "            \n",
    "            # converted_photo.append(wandb.Image(\n",
    "            #     cycled_photo[0], caption=\"Converted Photo\"))\n",
    "\n",
    "            # real_monet.append(wandb.Image(\n",
    "            #     real_monet[0], caption=\"Real Monet\"))\n",
    "            \n",
    "            # converted_monet.append(wandb.Image(\n",
    "            #     cycled_monet[0], caption=\"Converted Photo\"))\n",
    "            \n",
    "    # WandB – wandb.log(a_dict) logs the keys and values of the dictionary passed in and associates the values with a step.\n",
    "    # You can log anything by passing it to wandb.log, including histograms, custom matplotorch.rand(1,torch.rand(1,torch.rand(1,torch.rand(1,3,128,128)3,128,128)3,128,128)3,128,128)tlib objects, images, video, text, tables, html, pointclouds and other 3D objects.\n",
    "    # Here we use it to log test accuracy, loss and some test images (along with their true and predicted labels).\n",
    "        wandb.log({\n",
    "            \"Fake Photo\": wandb.Image(\n",
    "                fake_photo[0], caption=\"Fake Photo\"),\n",
    "            \"Fake Monet\": wandb.Image(\n",
    "                fake_monet[0], caption=\"Fake Monet\"),\n",
    "            \"epoch\": epoch + 1,\n",
    "            \"monet_gen_loss\": monet_gen_loss / len(test_dataloader.dataset),\n",
    "            \"photo_gen_loss\": photo_gen_loss / len(test_dataloader.dataset),\n",
    "            \"total_cycle_loss\":total_cycle_loss / len(test_dataloader.dataset),\n",
    "            \"total_monet_gen_loss\":total_monet_gen_loss / len(test_dataloader.dataset),\n",
    "            \"total_photo_gen_loss\":total_photo_gen_loss / len(test_dataloader.dataset),\n",
    "            \"monet_disc_loss\":monet_disc_loss / len(test_dataloader.dataset),\n",
    "            \"photo_disc_loss\":photo_disc_loss / len(test_dataloader.dataset),\n",
    "        })"
   ]
  },
  {
   "cell_type": "code",
   "execution_count": null,
   "metadata": {
    "id": "Ti8wjwpKwG0W"
   },
   "outputs": [],
   "source": [
    "if __name__ == \"__main__\":\n",
    "    model = GAN().to(device)\n",
    "\n",
    "    monet_generator_optimizer = torch.optim.Adam(model.monet_generator.parameters(), lr=run.config.lr, betas=run.config.betas)\n",
    "    photo_generator_optimizer = torch.optim.Adam(model.photo_generator.parameters(), lr=run.config.lr, betas=run.config.betas)\n",
    "\n",
    "    monet_discriminator_optimizer = torch.optim.Adam(model.monet_discriminator.parameters(), lr=run.config.lr, betas=run.config.betas)\n",
    "    photo_discriminator_optimizer = torch.optim.Adam(model.photo_discriminator.parameters(), lr=run.config.lr, betas=run.config.betas)\n",
    "\n",
    "    discriminator_loss = DiscriminatorLoss().to(device)\n",
    "    generator_loss     = GeneratedLoss().to(device)\n",
    "    cycle_loss         = CycleLoss().to(device)\n",
    "    identity_loss      = IdentityLoss().to(device)\n",
    "\n",
    "\n",
    "#     weights_file = wandb.restore('model.h5')\n",
    "    # use the \"name\" attribute of the returned object\n",
    "    # if your framework expects a filename, e.g. as in Keras\n",
    "    # model.load_state_dict(torch.load(PATH))\n",
    "\n",
    "#     model.load_state_dict(torch.load(weights_file.name))\n",
    "    wandb.watch([model], log=\"all\")\n",
    "\n",
    "    for epoch in range(run.config.epochs):\n",
    "        train_step(model, \n",
    "                  monet_generator_optimizer,\n",
    "                  photo_generator_optimizer,\n",
    "                  monet_discriminator_optimizer,\n",
    "                  photo_discriminator_optimizer,\n",
    "                  discriminator_loss,\n",
    "                  generator_loss,\n",
    "                  cycle_loss,\n",
    "                  identity_loss,\n",
    "                  train_dataset_loader, \n",
    "                  device,\n",
    "                  epoch,\n",
    "                  lambda_cycle=10)\n",
    "        # if epoch%run.config.log_interval == 0:\n",
    "        test(model,\n",
    "          discriminator_loss,\n",
    "          generator_loss,\n",
    "          cycle_loss,\n",
    "          identity_loss,\n",
    "          test_dataset_loader, \n",
    "          device,\n",
    "          epoch,\n",
    "          lambda_cycle=10)\n",
    "\n",
    "        torch.save(model.state_dict(), \"model.h5\")\n",
    "        wandb.save('model.h5')\n",
    "  # train_step()"
   ]
  },
  {
   "cell_type": "code",
   "execution_count": null,
   "metadata": {
    "id": "0ZwgBHoRwGwJ"
   },
   "outputs": [],
   "source": [
    "_, ax = plt.subplots(5, 2, figsize=(10, 10))\n",
    "\n",
    "\n",
    "for i in range(5):\n",
    "    data = next(iter(dataset_loader))\n",
    "\n",
    "    img = (data[0][0]).permute(1,2,0).cpu().detach().numpy()\n",
    "\n",
    "    prediction = m_gen(data[0].to(device))[0].permute(1,2,0).cpu().detach().numpy()\n",
    "\n",
    "    # prediction = (prediction).astype(np.uint8)\n",
    "    # img = (img[0] * 127.5 + 127.5).numpy().astype(np.uint8)\n",
    "\n",
    "    ax[i, 0].imshow(img)\n",
    "    ax[i, 1].imshow(prediction)\n",
    "    ax[i, 0].set_title(\"Input Photo\")\n",
    "    ax[i, 1].set_title(\"Monet-esque\")\n",
    "    ax[i, 0].axis(\"off\")\n",
    "    ax[i, 1].axis(\"off\")\n",
    "plt.show()\n"
   ]
  },
  {
   "cell_type": "code",
   "execution_count": null,
   "metadata": {
    "id": "SwAwFSpowGu9"
   },
   "outputs": [],
   "source": [
    "data = next(iter(dataset_loader))"
   ]
  },
  {
   "cell_type": "code",
   "execution_count": null,
   "metadata": {
    "id": "iA2CnKnkwGuH"
   },
   "outputs": [],
   "source": [
    "data[1].shape"
   ]
  },
  {
   "cell_type": "code",
   "execution_count": null,
   "metadata": {
    "id": "tAt7ZpqtwGtM"
   },
   "outputs": [],
   "source": []
  },
  {
   "cell_type": "code",
   "execution_count": null,
   "metadata": {
    "id": "bJFOLMinwGsJ"
   },
   "outputs": [],
   "source": []
  },
  {
   "cell_type": "code",
   "execution_count": null,
   "metadata": {
    "id": "9pXfwvM-wGrQ"
   },
   "outputs": [],
   "source": []
  },
  {
   "cell_type": "markdown",
   "metadata": {
    "id": "knsZ2efXvNOF"
   },
   "source": []
  }
 ],
 "metadata": {
  "kernelspec": {
   "display_name": "Python 3",
   "language": "python",
   "name": "python3"
  },
  "language_info": {
   "codemirror_mode": {
    "name": "ipython",
    "version": 3
   },
   "file_extension": ".py",
   "mimetype": "text/x-python",
   "name": "python",
   "nbconvert_exporter": "python",
   "pygments_lexer": "ipython3",
   "version": "3.7.3"
  }
 },
 "nbformat": 4,
 "nbformat_minor": 4
}
